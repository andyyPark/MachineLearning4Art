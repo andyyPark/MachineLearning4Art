{
  "nbformat": 4,
  "nbformat_minor": 0,
  "metadata": {
    "colab": {
      "name": "NeuralStyleTransfer.ipynb",
      "provenance": [],
      "collapsed_sections": [],
      "toc_visible": true,
      "authorship_tag": "ABX9TyMXk4Q/jQ0V6MEkcHdbbsC4",
      "include_colab_link": true
    },
    "kernelspec": {
      "name": "python3",
      "display_name": "Python 3"
    },
    "language_info": {
      "name": "python"
    },
    "accelerator": "GPU"
  },
  "cells": [
    {
      "cell_type": "markdown",
      "metadata": {
        "id": "view-in-github",
        "colab_type": "text"
      },
      "source": [
        "<a href=\"https://colab.research.google.com/github/andyyPark/MachineLearning4Art/blob/main/NeuralStyleTransfer.ipynb\" target=\"_parent\"><img src=\"https://colab.research.google.com/assets/colab-badge.svg\" alt=\"Open In Colab\"/></a>"
      ]
    },
    {
      "cell_type": "code",
      "execution_count": 1,
      "metadata": {
        "id": "egJ6USM6GLZ_"
      },
      "outputs": [],
      "source": [
        "import PIL\n",
        "import matplotlib.pyplot as plt\n",
        "import copy\n",
        "\n",
        "import torch\n",
        "import torch.nn as nn\n",
        "import torch.nn.functional as F\n",
        "import torch.optim as optim\n",
        "import torchvision.transforms as transforms\n",
        "import torchvision.models as model"
      ]
    },
    {
      "cell_type": "markdown",
      "source": [
        "Enable GPU"
      ],
      "metadata": {
        "id": "rUXHpGp7HBbc"
      }
    },
    {
      "cell_type": "code",
      "source": [
        "device = torch.device(\"cuda\" if torch.cuda.is_available() else \"cpu\")"
      ],
      "metadata": {
        "id": "mN2Za_5vGzBu"
      },
      "execution_count": 2,
      "outputs": []
    },
    {
      "cell_type": "markdown",
      "source": [
        "Helper Functions"
      ],
      "metadata": {
        "id": "oR2LxvTcHG8c"
      }
    },
    {
      "cell_type": "code",
      "source": [
        "def load_img(img_path, img_size):\n",
        "  loader = transforms.Compose([\n",
        "                               transforms.Resize(img_size),\n",
        "                               transforms.ToTensor()\n",
        "  ])\n",
        "  image = PIL.Image.open(img_path)\n",
        "  image = loader(image).unsqueeze(0) # Add extra dimension for vgg19\n",
        "  return image.to(device, torch.float)\n",
        "\n",
        "def plot_img(img_tensor):\n",
        "  image = img_tensor.cpu().clone()\n",
        "  image = image.squeeze(0)\n",
        "  image = transforms.ToPILImage()(image)\n",
        "  plt.imshow(image)\n",
        "  plt.show()"
      ],
      "metadata": {
        "id": "_SciIKVTHIHu"
      },
      "execution_count": 3,
      "outputs": []
    },
    {
      "cell_type": "code",
      "source": [
        ""
      ],
      "metadata": {
        "id": "nHhVYMO_IIwf"
      },
      "execution_count": null,
      "outputs": []
    }
  ]
}